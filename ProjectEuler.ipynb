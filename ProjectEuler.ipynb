{
  "nbformat": 4,
  "nbformat_minor": 0,
  "metadata": {
    "colab": {
      "provenance": [],
      "authorship_tag": "ABX9TyOESOrPm1nKMmXfYiBvTGe8",
      "include_colab_link": true
    },
    "kernelspec": {
      "name": "python3",
      "display_name": "Python 3"
    },
    "language_info": {
      "name": "python"
    }
  },
  "cells": [
    {
      "cell_type": "markdown",
      "metadata": {
        "id": "view-in-github",
        "colab_type": "text"
      },
      "source": [
        "<a href=\"https://colab.research.google.com/github/AndreSlavescu/ProjectEuler/blob/main/ProjectEuler.ipynb\" target=\"_parent\"><img src=\"https://colab.research.google.com/assets/colab-badge.svg\" alt=\"Open In Colab\"/></a>"
      ]
    },
    {
      "cell_type": "markdown",
      "source": [
        "# Problem 1: Multiples of 3 or 5\n",
        "\n",
        "https://projecteuler.net/problem=1\n",
        "\n"
      ],
      "metadata": {
        "id": "klERVEJ78jyt"
      }
    },
    {
      "cell_type": "code",
      "execution_count": 7,
      "metadata": {
        "colab": {
          "base_uri": "https://localhost:8080/"
        },
        "id": "rrDPP7tG8hOy",
        "outputId": "0bee7468-5033-41d4-d2a0-d77a8b2c7de4"
      },
      "outputs": [
        {
          "output_type": "execute_result",
          "data": {
            "text/plain": [
              "233168"
            ]
          },
          "metadata": {},
          "execution_count": 7
        }
      ],
      "source": [
        "def mul_3_or_5(n, total):\n",
        "  for i in range(1, n):\n",
        "    if i % 3 == 0 or i % 5 == 0:\n",
        "      total += i\n",
        "  return total\n",
        "\n",
        "mul_3_or_5(1000, 0)"
      ]
    },
    {
      "cell_type": "markdown",
      "source": [
        "# Problem 2: Even Fibonacci Numbers\n",
        "\n",
        "https://projecteuler.net/problem=2"
      ],
      "metadata": {
        "id": "2Z9ZZ6t7853h"
      }
    },
    {
      "cell_type": "code",
      "source": [
        "def fib_even_sum(n, m, accum):\n",
        "  if n >= 4e6:\n",
        "      return accum\n",
        "  elif n % 2 == 0:\n",
        "      return fib_even_sum(m, n+m, accum+n)\n",
        "  return fib_even_sum(m, n+m, accum)\n",
        "\n",
        "fib_even_sum(1, 1, 0)"
      ],
      "metadata": {
        "colab": {
          "base_uri": "https://localhost:8080/"
        },
        "id": "Y023O8Sj87i0",
        "outputId": "69177557-795a-4fb4-9fa6-8d100715632a"
      },
      "execution_count": 8,
      "outputs": [
        {
          "output_type": "execute_result",
          "data": {
            "text/plain": [
              "4613732"
            ]
          },
          "metadata": {},
          "execution_count": 8
        }
      ]
    },
    {
      "cell_type": "markdown",
      "source": [
        "# Problem 3: Largest Prime Factor\n",
        "\n",
        "https://projecteuler.net/problem=3"
      ],
      "metadata": {
        "id": "HC91enBOvLbq"
      }
    },
    {
      "cell_type": "code",
      "source": [
        "import math\n",
        "\n",
        "def is_prime(n):\n",
        "    if n <= 1:\n",
        "        return False\n",
        "    if n <= 3:\n",
        "        return True\n",
        "    if n % 2 == 0 or n % 3 == 0:\n",
        "        return False\n",
        "    i = 5\n",
        "    while i * i <= n:\n",
        "        if n % i == 0 or n % (i + 2) == 0:\n",
        "            return False\n",
        "        i += 6\n",
        "    return True\n",
        "\n",
        "def pollards_rho(n):\n",
        "    if n % 2 == 0:\n",
        "        return 2\n",
        "    x = 2; y = 2; d = 1\n",
        "    f = lambda x: (x**2 + 1) % n\n",
        "    while d == 1:\n",
        "        x = f(x)\n",
        "        y = f(f(y))\n",
        "        d = math.gcd(abs(x-y), n)\n",
        "    return d\n",
        "\n",
        "def factorize(n):\n",
        "    if n == 1:\n",
        "        return []\n",
        "    if is_prime(n):\n",
        "        return [n]\n",
        "    d = pollards_rho(n)\n",
        "    return factorize(d) + factorize(n // d)\n",
        "\n",
        "def max_prime_factor(n):\n",
        "    factors = factorize(n)\n",
        "    if len(factors) == 0:\n",
        "        return None\n",
        "    return max(factors)\n",
        "\n",
        "max_prime_factor(600851475143)\n"
      ],
      "metadata": {
        "colab": {
          "base_uri": "https://localhost:8080/"
        },
        "id": "kWZ2WKZewIKt",
        "outputId": "cf53008e-5710-4c40-f259-4b20b958978f"
      },
      "execution_count": 11,
      "outputs": [
        {
          "output_type": "execute_result",
          "data": {
            "text/plain": [
              "6857"
            ]
          },
          "metadata": {},
          "execution_count": 11
        }
      ]
    },
    {
      "cell_type": "markdown",
      "source": [
        "# Problem 4: Largest Palindrome Product\n",
        "\n",
        "https://projecteuler.net/problem=4"
      ],
      "metadata": {
        "id": "CzMl7mjVzNke"
      }
    },
    {
      "cell_type": "code",
      "source": [
        "def is_palindrome(num):\n",
        "    temp = num\n",
        "    reversed_num = 0\n",
        "    while temp != 0:\n",
        "        reversed_num = (reversed_num * 10) + (temp % 10)\n",
        "        temp = temp // 10\n",
        "    return num == reversed_num\n",
        "\n",
        "def max_palindrome_product(max_num):\n",
        "    maxpal = 0\n",
        "    min_y = 0\n",
        "    for x in range(max_num, 0, -1):\n",
        "        if x * x < maxpal:\n",
        "            break\n",
        "        if x < min_y:\n",
        "            continue\n",
        "        for y in range(x, 1, -1):\n",
        "            num = x * y\n",
        "            if num <= maxpal:\n",
        "                break\n",
        "            if is_palindrome(num):\n",
        "                maxpal = num\n",
        "                min_y = y\n",
        "    return maxpal\n",
        "\n",
        "max_palindrome_product(999)"
      ],
      "metadata": {
        "colab": {
          "base_uri": "https://localhost:8080/"
        },
        "id": "F3cHkUZuzajU",
        "outputId": "61d302d9-7b1e-4b6a-80fa-2f8d47f9cbe2"
      },
      "execution_count": 14,
      "outputs": [
        {
          "output_type": "execute_result",
          "data": {
            "text/plain": [
              "906609"
            ]
          },
          "metadata": {},
          "execution_count": 14
        }
      ]
    },
    {
      "cell_type": "markdown",
      "source": [
        "# Problem 5: Smallest Multiple\n",
        "\n",
        "https://projecteuler.net/problem=5"
      ],
      "metadata": {
        "id": "NghR84AnifOX"
      }
    },
    {
      "cell_type": "code",
      "source": [
        "def gcd(a, b):\n",
        "    if a == b or b == 0:\n",
        "        return a\n",
        "    if a == 0:\n",
        "        return b\n",
        "    if (~a & 1) == 1:\n",
        "        if (b & 1) == 1:\n",
        "            return gcd(a >> 1, b)\n",
        "        return gcd(a >> 1, b >> 1) << 1\n",
        "    if (~b & 1) == 1:\n",
        "        return gcd(a, b >> 1)\n",
        "    if a > b:\n",
        "        return gcd((a - b) // 2, b)\n",
        "    return gcd((b - a) // 2, a)\n",
        "\n",
        "def fast_lcm(a, b):\n",
        "    return abs(a * b) // gcd(a, b)\n",
        "\n",
        "def compute_lcm_in_range(start, end):\n",
        "    lcm = start\n",
        "    for i in range(start + 1, end + 1):\n",
        "        lcm = fast_lcm(lcm, i)\n",
        "    return lcm\n",
        "\n",
        "print(compute_lcm_in_range(1, 20))\n"
      ],
      "metadata": {
        "colab": {
          "base_uri": "https://localhost:8080/"
        },
        "id": "2X22rpvZk1D1",
        "outputId": "72ac03de-d33a-47c1-ea02-40d3623b5623"
      },
      "execution_count": 10,
      "outputs": [
        {
          "output_type": "stream",
          "name": "stdout",
          "text": [
            "232792560\n"
          ]
        }
      ]
    },
    {
      "cell_type": "markdown",
      "source": [
        "# Problem 6: Sum Square Difference\n",
        "\n",
        "https://projecteuler.net/problem=6"
      ],
      "metadata": {
        "id": "0N1hLSqUp3SX"
      }
    },
    {
      "cell_type": "code",
      "source": [
        "def square_of_sum(n):\n",
        "  return ((n+1) * n) * ((n+1) * n) // 4\n",
        "\n",
        "def sum_of_squares(n):\n",
        "  return (n * (n + 1) * (2 * n + 1)) // 6\n",
        "\n",
        "def sum_square_diff(n):\n",
        "  return square_of_sum(n) - sum_of_squares(n)\n",
        "\n",
        "sum_square_diff(100)"
      ],
      "metadata": {
        "colab": {
          "base_uri": "https://localhost:8080/"
        },
        "id": "44vXHdDCqWg7",
        "outputId": "2a919c5c-4080-4ab2-9d7b-6be4d7db5626"
      },
      "execution_count": 15,
      "outputs": [
        {
          "output_type": "execute_result",
          "data": {
            "text/plain": [
              "25164150"
            ]
          },
          "metadata": {},
          "execution_count": 15
        }
      ]
    }
  ]
}